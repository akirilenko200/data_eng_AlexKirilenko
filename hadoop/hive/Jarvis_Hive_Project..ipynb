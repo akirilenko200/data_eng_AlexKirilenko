﻿{
  "metadata": {
    "name": "Jarvis_Hive_Project",
    "kernelspec": {
      "language": "scala",
      "name": "spark2-scala"
    },
    "language_info": {
      "codemirror_mode": "text/x-scala",
      "file_extension": ".scala",
      "mimetype": "text/x-scala",
      "name": "scala",
      "pygments_lexer": "scala"
    }
  },
  "nbformat": 4,
  "nbformat_minor": 2,
  "cells": [
    {
      "cell_type": "markdown",
      "metadata": {},
      "source": "## Creating a table from the cloud storage data"
    },
    {
      "cell_type": "code",
      "execution_count": 1,
      "metadata": {
        "autoscroll": "auto"
      },
      "outputs": [],
      "source": "DROP TABLE IF EXISTS wdi_gs;\n\nCREATE EXTERNAL TABLE IF NOT EXISTS wdi_gs\n(year INTEGER, countryName STRING, countryCode STRING, indicatorName STRING, indicatorCode STRING, indicatorValue FLOAT)\nROW FORMAT DELIMITED FIELDS TERMINATED BY \u0027,\u0027 LINES TERMINATED BY \u0027\\n\u0027\nLOCATION \u0027gs://jarvis_data_eng_alexkirilenko/datasets/wdi_2016\u0027\nTBLPROPERTIES (\"skip.header.line.count\"\u003d\"1\");"
    },
    {
      "cell_type": "markdown",
      "metadata": {},
      "source": "## Creating a table on the hdfs and transferring data to it"
    },
    {
      "cell_type": "code",
      "execution_count": 3,
      "metadata": {
        "autoscroll": "auto"
      },
      "outputs": [],
      "source": "DROP TABLE IF EXISTS wdi_csv_text;\r\n\r\nCREATE EXTERNAL TABLE wdi_csv_text\r\n(year INTEGER, countryName STRING, countryCode STRING, indicatorName STRING, indicatorCode STRING, indicatorValue FLOAT)\r\nROW FORMAT DELIMITED FIELDS TERMINATED BY \u0027,\u0027 LINES TERMINATED BY \u0027\\n\u0027\r\nLOCATION \u0027hdfs:///user/akirilenko200/hive/wdi/wdi_csv_text\u0027;\r\n\r\nINSERT OVERWRITE TABLE wdi_csv_text SELECT * FROM wdi_gs;"
    },
    {
      "cell_type": "markdown",
      "metadata": {},
      "source": "## Exploring the data with a simple query"
    },
    {
      "cell_type": "code",
      "execution_count": 5,
      "metadata": {
        "autoscroll": "auto"
      },
      "outputs": [],
      "source": "SELECT count(countryName) FROM wdi_csv_text;"
    },
    {
      "cell_type": "markdown",
      "metadata": {},
      "source": "## Rerunning the previous query\n* The result is faster since the data has been cached on the DataNode filesystems"
    },
    {
      "cell_type": "code",
      "execution_count": 7,
      "metadata": {
        "autoscroll": "auto"
      },
      "outputs": [],
      "source": "SELECT count(countryName) FROM wdi_csv_text;"
    },
    {
      "cell_type": "markdown",
      "metadata": {},
      "source": "\r\n\r\n## Running the query using Bash utilities\r\nssh to the master node to run the following code:\r\n```Bash\r\n    cd ~\r\n    hdfs  dfs -get  hdfs:///user/akirilenko200/hive/wdi/wdi_csv_text .\r\n    cd wdi_csv_text\r\n    #calculate current directory size\r\n    du -ch .\r\n    #1.8G\ttotal\r\n    #clear fs cache\r\n    echo 3 | sudo tee /proc/sys/vm/drop_caches\r\n    #bash row count\r\n    date +%s \u0026\u0026 cat * | wc \u0026\u0026 date +%s\r\n```\r\nTime taken ~20 seconds.\r\n\r\nThe query runs slower than the Hive equivalent, since it is not parallelized."
    },
    {
      "cell_type": "markdown",
      "metadata": {},
      "source": "## Selecting distinct codes"
    },
    {
      "cell_type": "code",
      "execution_count": 10,
      "metadata": {
        "autoscroll": "auto"
      },
      "outputs": [],
      "source": "SELECT distinct(indicatorcode)\nFROM wdi_csv_text\nORDER BY indicatorcode\nLIMIT 20;"
    },
    {
      "cell_type": "markdown",
      "metadata": {},
      "source": "## Because the data is not formatter properly, a table with raw rows is created for debugging\n* As can be seen, indicator name appears in quotes and contains commas and it it parsed incorrectly"
    },
    {
      "cell_type": "code",
      "execution_count": 12,
      "metadata": {
        "autoscroll": "auto"
      },
      "outputs": [],
      "source": "CREATE EXTERNAL TABLE IF NOT EXISTS wdi_csv_debug\r\n(line STRING)\r\nLOCATION \u0027gs://jarvis_data_eng_alexkirilenko/datasets/wdi_2016\u0027\r\nTBLPROPERTIES (\"skip.header.line.count\"\u003d\"1\");\r\n\r\nSELECT line FROM wdi_csv_debug WHERE line like \u0027%\\(\\% of urban population\\)\\\"%\u0027;"
    },
    {
      "cell_type": "markdown",
      "metadata": {},
      "source": " \n## Creating a table with custom SerDe (Serializtion Deserialization)\n* First, a table is created with all string columns (as required by the OpenCSV)\n* Then, a new table is created with appropriate data types"
    },
    {
      "cell_type": "code",
      "execution_count": 14,
      "metadata": {
        "autoscroll": "auto"
      },
      "outputs": [],
      "source": "DROP TABLE IF EXISTS wdi_opencsv_gs;\nCREATE EXTERNAL TABLE wdi_opencsv_gs \n(year STRING, countryName STRING, countryCode STRING, indicatorName STRING, indicatorCode STRING, indicatorValue STRING)\nROW FORMAT serde \u0027org.apache.hadoop.hive.serde2.OpenCSVSerde\u0027\nSTORED AS TEXTFILE\nLOCATION \u0027gs://jarvis_data_eng_alexkirilenko/datasets/wdi_2016\u0027\nTBLPROPERTIES (\"skip.header.line.count\"\u003d\"1\");\n"
    },
    {
      "cell_type": "code",
      "execution_count": 15,
      "metadata": {
        "autoscroll": "auto"
      },
      "outputs": [],
      "source": "DROP TABLE IF EXISTS wdi_opencsv_text;\nCREATE EXTERNAL TABLE wdi_opencsv_text\n(year INTEGER, countryName STRING, countryCode STRING, indicatorName STRING, indicatorCode STRING, indicatorValue FLOAT)\nLOCATION \u0027hdfs:///user/akirilenko200/hive/wdi/wdi_opencsv_text\u0027;\n\nINSERT OVERWRITE TABLE wdi_opencsv_text SELECT * FROM wdi_opencsv_gs;\n\nSELECT * FROM wdi_opencsv_text LIMIT 15;"
    },
    {
      "cell_type": "markdown",
      "metadata": {},
      "source": "## Comparing execution times from original and formatted tables\nHere, the queries on the formatted table take longer to execute "
    },
    {
      "cell_type": "code",
      "execution_count": 17,
      "metadata": {
        "autoscroll": "auto"
      },
      "outputs": [],
      "source": "SELECT count(countryName) FROM wdi_opencsv_text;\n\nSELECT count(countryName) FROM wdi_csv_text;"
    },
    {
      "cell_type": "markdown",
      "metadata": {},
      "source": "## 2015 Canada GDP Growth HQL"
    },
    {
      "cell_type": "code",
      "execution_count": 19,
      "metadata": {
        "autoscroll": "auto"
      },
      "outputs": [],
      "source": "SELECT indicatorValue as GDP_growth_value, year, countryName FROM wdi_opencsv_text\nWHERE year \u003d 2015 AND countryName \u003d \u0027Canada\u0027 AND indicatorName like \u0027%GDP growth \\(annual \\%\\)%\u0027;"
    },
    {
      "cell_type": "markdown",
      "metadata": {},
      "source": "## Hive Partitions\n* To speed up the previous query, partitions can be created on data by year, limiting the search space\n* This way, more than 2 time speed up is achieved in the 2015 Canada GDP query"
    },
    {
      "cell_type": "code",
      "execution_count": 21,
      "metadata": {
        "autoscroll": "auto"
      },
      "outputs": [],
      "source": "set hive.exec.dynamic.partition.mode\u003dnonstrict;\n\nDROP TABLE IF EXISTS wdi_opencsv_text_partitions;\nCREATE EXTERNAL TABLE wdi_opencsv_text_partitions\n(countryName STRING, countryCode STRING, indicatorName STRING, indicatorCode STRING, indicatorValue FLOAT)\nPARTITIONED BY (year INTEGER)\nLOCATION \u0027hdfs:///user/akirilenko200/hive/wdi/wdi_opencsv_text_partitions\u0027;\n\n-- partitioned column is at the end\nINSERT OVERWRITE TABLE wdi_opencsv_text_partitions PARTITION(year) SELECT \norigin.countryName, origin.countryCode, origin.indicatorName, origin.indicatorCode, origin.indicatorValue, origin.year as year FROM wdi_opencsv_text origin;"
    },
    {
      "cell_type": "code",
      "execution_count": 22,
      "metadata": {
        "autoscroll": "auto"
      },
      "outputs": [],
      "source": "SELECT indicatorValue as GDP_growth_value, year, countryName FROM wdi_opencsv_text_partitions\nWHERE year \u003d 2015 AND countryName \u003d \u0027Canada\u0027 AND indicatorName like \u0027%GDP growth \\(annual \\%\\)%\u0027;"
    },
    {
      "cell_type": "markdown",
      "metadata": {},
      "source": "## Columnar file optimization\n* Data is stored in Parquet format\n* Query times are compared, with Parquet queries running faster than uncached queries of standard form\n* The disk usage of Parquet is significantly less as well (by an order of magnitude)"
    },
    {
      "cell_type": "code",
      "execution_count": 24,
      "metadata": {
        "autoscroll": "auto"
      },
      "outputs": [],
      "source": "DROP TABLE IF EXISTS wdi_opencsv_parquet;\nCREATE EXTERNAL TABLE wdi_opencsv_parquet\n(year INTEGER, countryName STRING, countryCode STRING, indicatorName STRING, indicatorCode STRING, indicatorValue FLOAT)\nSTORED AS PARQUET\nLOCATION \u0027hdfs:///user/akirilenko200/hive/wdi/wdi_opencsv_parquet\u0027;\n\nINSERT OVERWRITE TABLE wdi_opencsv_parquet SELECT * FROM wdi_opencsv_gs;"
    },
    {
      "cell_type": "code",
      "execution_count": 25,
      "metadata": {
        "autoscroll": "auto"
      },
      "outputs": [],
      "source": "SELECT count(countryName) FROM wdi_opencsv_parquet;\n\nSELECT count(countryName) FROM wdi_opencsv_text;"
    },
    {
      "cell_type": "markdown",
      "metadata": {},
      "source": "## Highest GDP growth by country"
    },
    {
      "cell_type": "code",
      "execution_count": 27,
      "metadata": {
        "autoscroll": "auto"
      },
      "outputs": [],
      "source": "SELECT max(t.indicatorValue) GDP_growth, t.countryName\nFROM wdi_opencsv_text_partitions t\nWHERE t.indicatorCode \u003d \u0027NY.GDP.MKTP.KD.ZG\u0027\nGROUP BY t.countryName;"
    },
    {
      "cell_type": "code",
      "execution_count": 28,
      "metadata": {
        "autoscroll": "auto"
      },
      "outputs": [],
      "source": "%spark.sql\n-- Using spark engine\nSELECT max(t.indicatorValue) GDP_growth, t.countryName\nFROM wdi_opencsv_text t\nWHERE t.indicatorCode \u003d \u0027NY.GDP.MKTP.KD.ZG\u0027\nGROUP BY t.countryName;"
    },
    {
      "cell_type": "code",
      "execution_count": 29,
      "metadata": {
        "autoscroll": "auto"
      },
      "outputs": [],
      "source": "SELECT indicatorValue, year, countryName\nFROM wdi_opencsv_text_partitions\nWHERE indicatorCode \u003d \u0027NY.GDP.MKTP.KD.ZG\u0027\nDISTRIBUTE BY countryName\nSORT BY countryName, year;"
    }
  ]
}